{
 "cells": [
  {
   "cell_type": "code",
   "execution_count": 1,
   "metadata": {},
   "outputs": [
    {
     "name": "stdout",
     "output_type": "stream",
     "text": [
      "   col_1  col_2\n",
      "1      1      2\n",
      "2      3      4\n",
      "Date: 2000-09-19\n",
      "\n",
      "   col_1  col_2\n",
      "1      1      2\n",
      "2      3      4\n",
      "Date: 2000-09-19\n",
      "\n",
      "   col_1  col_2\n",
      "1      1      2\n",
      "2      3      4\n",
      "Date: 2000-09-19\n",
      "\n",
      "   col_1  col_2\n",
      "1      1      2\n",
      "2      3      4\n",
      "Date: 2000-09-19\n",
      "\n"
     ]
    }
   ],
   "source": [
    "import numpy as np\n",
    "import pandasdate as pdd\n",
    "\n",
    "df = pdd.DataFrame(np.array([1, 2, 3, 4]).reshape((2, 2)), index=np.array([1, 2]), columns=['col_1', 'col_2'])\n",
    "\n",
    "df.to_pickle('npa.pickle')\n",
    "print(pdd.read_pickle('npa.pickle'), end='\\n\\n')\n",
    "\n",
    "df.to_csv('npa.csv')\n",
    "print(pdd.read_csv('npa.csv'), end='\\n\\n')\n",
    "\n",
    "df.to_parquet('npa.parquet')\n",
    "print(pdd.read_parquet('npa.parquet'), end='\\n\\n')\n",
    "\n",
    "df.to_excel('npa.xlsx')\n",
    "print(pdd.read_excel('npa.xlsx'), end='\\n\\n')"
   ]
  }
 ],
 "metadata": {
  "kernelspec": {
   "display_name": "Python 3",
   "language": "python",
   "name": "python3"
  },
  "language_info": {
   "codemirror_mode": {
    "name": "ipython",
    "version": 3
   },
   "file_extension": ".py",
   "mimetype": "text/x-python",
   "name": "python",
   "nbconvert_exporter": "python",
   "pygments_lexer": "ipython3",
   "version": "3.12.4"
  }
 },
 "nbformat": 4,
 "nbformat_minor": 2
}
